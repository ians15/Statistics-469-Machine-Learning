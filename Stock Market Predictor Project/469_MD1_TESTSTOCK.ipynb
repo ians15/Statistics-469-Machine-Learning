{
 "cells": [
  {
   "cell_type": "code",
   "execution_count": 1,
   "id": "47e4cab1-6296-4295-b5f1-444948bc8ed4",
   "metadata": {},
   "outputs": [
    {
     "name": "stdout",
     "output_type": "stream",
     "text": [
      "3.12.0 (tags/v3.12.0:0fb18b0, Oct  2 2023, 13:03:39) [MSC v.1935 64 bit (AMD64)]\n"
     ]
    }
   ],
   "source": [
    "import sys\n",
    "print(sys.version)"
   ]
  },
  {
   "cell_type": "code",
   "execution_count": null,
   "id": "ef1c7a06-1d3f-4d3e-8877-fff99a50e120",
   "metadata": {},
   "outputs": [],
   "source": [
    "#!pip install tensorflow\n",
    "#!pip install yfinance --upgrade --no-cache-dir \n",
    "#!pip install scikit-learn\n",
    "#!pip install pandas\n",
    "#!pip install matplotlib"
   ]
  },
  {
   "cell_type": "code",
   "execution_count": 3,
   "id": "5c9a517f-0fda-4353-93d0-a62cb97e037e",
   "metadata": {},
   "outputs": [],
   "source": [
    "import numpy as np\n",
    "import pandas as pd\n",
    "import yfinance as yf  \n",
    "import tensorflow as tf\n",
    "from tensorflow.keras.models import Sequential\n",
    "from tensorflow.keras.layers import LSTM, Dense, Dropout\n",
    "from sklearn.preprocessing import MinMaxScaler\n",
    "import matplotlib.pyplot as plt\n",
    "import datetime\n",
    "\n",
    "import warnings\n",
    "warnings.filterwarnings(\"ignore\")  \n"
   ]
  },
  {
   "cell_type": "code",
   "execution_count": 4,
   "id": "d7942fee-eabd-4798-9bb5-1d72fa9ede22",
   "metadata": {},
   "outputs": [
    {
     "name": "stdout",
     "output_type": "stream",
     "text": [
      "YF.download() has changed argument auto_adjust default to True\n"
     ]
    },
    {
     "name": "stderr",
     "output_type": "stream",
     "text": [
      "[*********************100%***********************]  1 of 1 completed"
     ]
    },
    {
     "name": "stdout",
     "output_type": "stream",
     "text": [
      "Stock Data Preview:\n",
      " Price            Close\n",
      "Ticker            COST\n",
      "Date                  \n",
      "2020-01-02  267.592499\n",
      "2020-01-03  267.812775\n",
      "2020-01-06  267.886292\n",
      "2020-01-07  267.463928\n",
      "2020-01-08  270.530151\n"
     ]
    },
    {
     "name": "stderr",
     "output_type": "stream",
     "text": [
      "\n"
     ]
    }
   ],
   "source": [
    "# Step 2: Download Stock Data\n",
    "# Choose a stock ticker symbol (e.g., 'AAPL' for Apple Inc.)\n",
    "ticker = 'COST'  \n",
    "\n",
    "# Download historical data from Yahoo Finance\n",
    "data = yf.download(ticker, start='2020-01-01', end=pd.Timestamp.today().strftime('%Y-%m-%d'))\n",
    "\n",
    "# Ensure 'Close' column exists\n",
    "if 'Close' not in data.columns:\n",
    "    raise ValueError(\"Error: 'Close' price data is missing for the selected ticker.\")\n",
    "\n",
    "# Keep only 'Close' prices for simplicity\n",
    "data = data[['Close']]\n",
    "\n",
    "# Ensure data is not empty\n",
    "if data.empty:\n",
    "    raise ValueError(\"Error: No historical stock data found for the given ticker and date range.\")\n",
    "\n",
    "# Print first few rows to confirm data is loaded correctly\n",
    "print(\"Stock Data Preview:\\n\", data.head())\n"
   ]
  },
  {
   "cell_type": "code",
   "execution_count": 5,
   "id": "7493a382-5a26-4faa-b8d3-91fb099a0693",
   "metadata": {},
   "outputs": [
    {
     "name": "stdout",
     "output_type": "stream",
     "text": [
      "Scaled Data Range: Min = 0.0, Max = 0.9999999999999999\n"
     ]
    }
   ],
   "source": [
    "# Step 3: Preprocess Data\n",
    "\n",
    "# Drop any NaN values (if they exist)\n",
    "data.dropna(inplace=True)\n",
    "\n",
    "# Initialize MinMaxScaler to normalize the data between 0 and 1\n",
    "scaler = MinMaxScaler(feature_range=(0, 1))\n",
    "\n",
    "# Scale the 'Close' prices\n",
    "scaled_data = scaler.fit_transform(data)\n",
    "\n",
    "# Confirm scaling by printing min/max values\n",
    "print(f\"Scaled Data Range: Min = {scaled_data.min()}, Max = {scaled_data.max()}\")\n"
   ]
  },
  {
   "cell_type": "code",
   "execution_count": 6,
   "id": "20991114-8d84-44e1-b0c3-981f1e8c48ae",
   "metadata": {},
   "outputs": [
    {
     "name": "stdout",
     "output_type": "stream",
     "text": [
      "x_train shape: (977, 60, 1), y_train shape: (977,)\n"
     ]
    }
   ],
   "source": [
    "# Step 4: Prepare Training Data\n",
    "\n",
    "# Ensure we have enough data for a 60-day window\n",
    "if len(scaled_data) < 60:\n",
    "    raise ValueError(\"Error: Not enough data available to create a 60-day training window.\")\n",
    "\n",
    "# Define training data length as 80% of the total data\n",
    "training_data_len = int(np.ceil(len(scaled_data) * 0.8))\n",
    "\n",
    "# Split the scaled data into the training set\n",
    "train_data = scaled_data[:training_data_len]\n",
    "\n",
    "# Create x_train (features) and y_train (labels) using NumPy for efficiency\n",
    "x_train = np.array([train_data[i-60:i, 0] for i in range(60, len(train_data))], dtype=np.float32)\n",
    "y_train = np.array([train_data[i, 0] for i in range(60, len(train_data))], dtype=np.float32)\n",
    "\n",
    "# Reshape x_train to match LSTM's expected input format (samples, time steps, features)\n",
    "x_train = x_train.reshape((x_train.shape[0], x_train.shape[1], 1))\n",
    "\n",
    "# Print data shapes for debugging\n",
    "print(f\"x_train shape: {x_train.shape}, y_train shape: {y_train.shape}\")\n"
   ]
  },
  {
   "cell_type": "code",
   "execution_count": 7,
   "id": "318d214f-5b60-4665-8997-935b9e4ca733",
   "metadata": {},
   "outputs": [
    {
     "name": "stdout",
     "output_type": "stream",
     "text": [
      "Epoch 1/50\n",
      "\u001b[1m28/28\u001b[0m \u001b[32m━━━━━━━━━━━━━━━━━━━━\u001b[0m\u001b[37m\u001b[0m \u001b[1m5s\u001b[0m 52ms/step - loss: 0.0079 - val_loss: 0.0029\n",
      "Epoch 2/50\n",
      "\u001b[1m28/28\u001b[0m \u001b[32m━━━━━━━━━━━━━━━━━━━━\u001b[0m\u001b[37m\u001b[0m \u001b[1m1s\u001b[0m 41ms/step - loss: 4.4023e-04 - val_loss: 6.9661e-04\n",
      "Epoch 3/50\n",
      "\u001b[1m28/28\u001b[0m \u001b[32m━━━━━━━━━━━━━━━━━━━━\u001b[0m\u001b[37m\u001b[0m \u001b[1m1s\u001b[0m 45ms/step - loss: 2.8291e-04 - val_loss: 0.0010\n",
      "Epoch 4/50\n",
      "\u001b[1m28/28\u001b[0m \u001b[32m━━━━━━━━━━━━━━━━━━━━\u001b[0m\u001b[37m\u001b[0m \u001b[1m1s\u001b[0m 39ms/step - loss: 3.0283e-04 - val_loss: 1.6769e-04\n",
      "Epoch 5/50\n",
      "\u001b[1m28/28\u001b[0m \u001b[32m━━━━━━━━━━━━━━━━━━━━\u001b[0m\u001b[37m\u001b[0m \u001b[1m1s\u001b[0m 38ms/step - loss: 2.9818e-04 - val_loss: 7.9549e-04\n",
      "Epoch 6/50\n",
      "\u001b[1m28/28\u001b[0m \u001b[32m━━━━━━━━━━━━━━━━━━━━\u001b[0m\u001b[37m\u001b[0m \u001b[1m1s\u001b[0m 40ms/step - loss: 2.1163e-04 - val_loss: 4.5441e-04\n",
      "Epoch 7/50\n",
      "\u001b[1m28/28\u001b[0m \u001b[32m━━━━━━━━━━━━━━━━━━━━\u001b[0m\u001b[37m\u001b[0m \u001b[1m1s\u001b[0m 42ms/step - loss: 2.5491e-04 - val_loss: 1.4159e-04\n",
      "Epoch 8/50\n",
      "\u001b[1m28/28\u001b[0m \u001b[32m━━━━━━━━━━━━━━━━━━━━\u001b[0m\u001b[37m\u001b[0m \u001b[1m1s\u001b[0m 45ms/step - loss: 2.0844e-04 - val_loss: 2.8230e-04\n",
      "Epoch 9/50\n",
      "\u001b[1m28/28\u001b[0m \u001b[32m━━━━━━━━━━━━━━━━━━━━\u001b[0m\u001b[37m\u001b[0m \u001b[1m1s\u001b[0m 43ms/step - loss: 1.8986e-04 - val_loss: 2.4866e-04\n",
      "Epoch 10/50\n",
      "\u001b[1m28/28\u001b[0m \u001b[32m━━━━━━━━━━━━━━━━━━━━\u001b[0m\u001b[37m\u001b[0m \u001b[1m1s\u001b[0m 47ms/step - loss: 2.1700e-04 - val_loss: 1.9514e-04\n",
      "Epoch 11/50\n",
      "\u001b[1m28/28\u001b[0m \u001b[32m━━━━━━━━━━━━━━━━━━━━\u001b[0m\u001b[37m\u001b[0m \u001b[1m1s\u001b[0m 41ms/step - loss: 1.7184e-04 - val_loss: 2.5211e-04\n",
      "Epoch 12/50\n",
      "\u001b[1m28/28\u001b[0m \u001b[32m━━━━━━━━━━━━━━━━━━━━\u001b[0m\u001b[37m\u001b[0m \u001b[1m1s\u001b[0m 41ms/step - loss: 1.6676e-04 - val_loss: 2.9661e-04\n",
      "Epoch 13/50\n",
      "\u001b[1m28/28\u001b[0m \u001b[32m━━━━━━━━━━━━━━━━━━━━\u001b[0m\u001b[37m\u001b[0m \u001b[1m1s\u001b[0m 48ms/step - loss: 1.6632e-04 - val_loss: 3.8096e-04\n",
      "Epoch 14/50\n",
      "\u001b[1m28/28\u001b[0m \u001b[32m━━━━━━━━━━━━━━━━━━━━\u001b[0m\u001b[37m\u001b[0m \u001b[1m1s\u001b[0m 44ms/step - loss: 1.6778e-04 - val_loss: 1.3842e-04\n",
      "Epoch 15/50\n",
      "\u001b[1m28/28\u001b[0m \u001b[32m━━━━━━━━━━━━━━━━━━━━\u001b[0m\u001b[37m\u001b[0m \u001b[1m1s\u001b[0m 45ms/step - loss: 1.6423e-04 - val_loss: 4.0993e-04\n",
      "Epoch 16/50\n",
      "\u001b[1m28/28\u001b[0m \u001b[32m━━━━━━━━━━━━━━━━━━━━\u001b[0m\u001b[37m\u001b[0m \u001b[1m1s\u001b[0m 43ms/step - loss: 1.4815e-04 - val_loss: 3.2287e-04\n",
      "Epoch 17/50\n",
      "\u001b[1m28/28\u001b[0m \u001b[32m━━━━━━━━━━━━━━━━━━━━\u001b[0m\u001b[37m\u001b[0m \u001b[1m1s\u001b[0m 48ms/step - loss: 1.5187e-04 - val_loss: 3.9634e-04\n",
      "Epoch 18/50\n",
      "\u001b[1m28/28\u001b[0m \u001b[32m━━━━━━━━━━━━━━━━━━━━\u001b[0m\u001b[37m\u001b[0m \u001b[1m1s\u001b[0m 48ms/step - loss: 1.5879e-04 - val_loss: 2.8182e-04\n",
      "Epoch 19/50\n",
      "\u001b[1m28/28\u001b[0m \u001b[32m━━━━━━━━━━━━━━━━━━━━\u001b[0m\u001b[37m\u001b[0m \u001b[1m1s\u001b[0m 50ms/step - loss: 1.4552e-04 - val_loss: 3.8651e-04\n",
      "Epoch 20/50\n",
      "\u001b[1m28/28\u001b[0m \u001b[32m━━━━━━━━━━━━━━━━━━━━\u001b[0m\u001b[37m\u001b[0m \u001b[1m1s\u001b[0m 48ms/step - loss: 1.5362e-04 - val_loss: 2.7635e-04\n",
      "Epoch 21/50\n",
      "\u001b[1m28/28\u001b[0m \u001b[32m━━━━━━━━━━━━━━━━━━━━\u001b[0m\u001b[37m\u001b[0m \u001b[1m1s\u001b[0m 46ms/step - loss: 1.1791e-04 - val_loss: 2.0972e-04\n",
      "Epoch 22/50\n",
      "\u001b[1m28/28\u001b[0m \u001b[32m━━━━━━━━━━━━━━━━━━━━\u001b[0m\u001b[37m\u001b[0m \u001b[1m1s\u001b[0m 49ms/step - loss: 1.4286e-04 - val_loss: 1.8246e-04\n",
      "Epoch 23/50\n",
      "\u001b[1m28/28\u001b[0m \u001b[32m━━━━━━━━━━━━━━━━━━━━\u001b[0m\u001b[37m\u001b[0m \u001b[1m1s\u001b[0m 46ms/step - loss: 1.3928e-04 - val_loss: 1.4562e-04\n",
      "Epoch 24/50\n",
      "\u001b[1m28/28\u001b[0m \u001b[32m━━━━━━━━━━━━━━━━━━━━\u001b[0m\u001b[37m\u001b[0m \u001b[1m1s\u001b[0m 45ms/step - loss: 1.8124e-04 - val_loss: 3.7727e-04\n",
      "Epoch 25/50\n",
      "\u001b[1m28/28\u001b[0m \u001b[32m━━━━━━━━━━━━━━━━━━━━\u001b[0m\u001b[37m\u001b[0m \u001b[1m1s\u001b[0m 45ms/step - loss: 1.2894e-04 - val_loss: 4.4694e-04\n",
      "Epoch 26/50\n",
      "\u001b[1m28/28\u001b[0m \u001b[32m━━━━━━━━━━━━━━━━━━━━\u001b[0m\u001b[37m\u001b[0m \u001b[1m1s\u001b[0m 44ms/step - loss: 1.2798e-04 - val_loss: 2.6740e-04\n",
      "Epoch 27/50\n",
      "\u001b[1m28/28\u001b[0m \u001b[32m━━━━━━━━━━━━━━━━━━━━\u001b[0m\u001b[37m\u001b[0m \u001b[1m1s\u001b[0m 44ms/step - loss: 1.3251e-04 - val_loss: 1.0273e-04\n",
      "Epoch 28/50\n",
      "\u001b[1m28/28\u001b[0m \u001b[32m━━━━━━━━━━━━━━━━━━━━\u001b[0m\u001b[37m\u001b[0m \u001b[1m1s\u001b[0m 48ms/step - loss: 1.3993e-04 - val_loss: 1.2964e-04\n",
      "Epoch 29/50\n",
      "\u001b[1m28/28\u001b[0m \u001b[32m━━━━━━━━━━━━━━━━━━━━\u001b[0m\u001b[37m\u001b[0m \u001b[1m1s\u001b[0m 48ms/step - loss: 1.2255e-04 - val_loss: 4.2642e-04\n",
      "Epoch 30/50\n",
      "\u001b[1m28/28\u001b[0m \u001b[32m━━━━━━━━━━━━━━━━━━━━\u001b[0m\u001b[37m\u001b[0m \u001b[1m1s\u001b[0m 49ms/step - loss: 1.1479e-04 - val_loss: 3.6629e-04\n",
      "Epoch 31/50\n",
      "\u001b[1m28/28\u001b[0m \u001b[32m━━━━━━━━━━━━━━━━━━━━\u001b[0m\u001b[37m\u001b[0m \u001b[1m1s\u001b[0m 46ms/step - loss: 1.1947e-04 - val_loss: 2.4127e-04\n",
      "Epoch 32/50\n",
      "\u001b[1m28/28\u001b[0m \u001b[32m━━━━━━━━━━━━━━━━━━━━\u001b[0m\u001b[37m\u001b[0m \u001b[1m2s\u001b[0m 53ms/step - loss: 1.1350e-04 - val_loss: 3.9476e-04\n",
      "Epoch 33/50\n",
      "\u001b[1m28/28\u001b[0m \u001b[32m━━━━━━━━━━━━━━━━━━━━\u001b[0m\u001b[37m\u001b[0m \u001b[1m1s\u001b[0m 52ms/step - loss: 9.5236e-05 - val_loss: 3.2265e-04\n",
      "Epoch 34/50\n",
      "\u001b[1m28/28\u001b[0m \u001b[32m━━━━━━━━━━━━━━━━━━━━\u001b[0m\u001b[37m\u001b[0m \u001b[1m1s\u001b[0m 43ms/step - loss: 1.0102e-04 - val_loss: 9.8033e-05\n",
      "Epoch 35/50\n",
      "\u001b[1m28/28\u001b[0m \u001b[32m━━━━━━━━━━━━━━━━━━━━\u001b[0m\u001b[37m\u001b[0m \u001b[1m1s\u001b[0m 43ms/step - loss: 1.0736e-04 - val_loss: 3.8006e-04\n",
      "Epoch 36/50\n",
      "\u001b[1m28/28\u001b[0m \u001b[32m━━━━━━━━━━━━━━━━━━━━\u001b[0m\u001b[37m\u001b[0m \u001b[1m1s\u001b[0m 42ms/step - loss: 1.0963e-04 - val_loss: 4.4158e-04\n",
      "Epoch 37/50\n",
      "\u001b[1m28/28\u001b[0m \u001b[32m━━━━━━━━━━━━━━━━━━━━\u001b[0m\u001b[37m\u001b[0m \u001b[1m1s\u001b[0m 40ms/step - loss: 1.0011e-04 - val_loss: 2.3443e-04\n",
      "Epoch 38/50\n",
      "\u001b[1m28/28\u001b[0m \u001b[32m━━━━━━━━━━━━━━━━━━━━\u001b[0m\u001b[37m\u001b[0m \u001b[1m1s\u001b[0m 38ms/step - loss: 9.4642e-05 - val_loss: 1.4100e-04\n",
      "Epoch 39/50\n",
      "\u001b[1m28/28\u001b[0m \u001b[32m━━━━━━━━━━━━━━━━━━━━\u001b[0m\u001b[37m\u001b[0m \u001b[1m1s\u001b[0m 39ms/step - loss: 1.0932e-04 - val_loss: 9.0897e-05\n",
      "Epoch 40/50\n",
      "\u001b[1m28/28\u001b[0m \u001b[32m━━━━━━━━━━━━━━━━━━━━\u001b[0m\u001b[37m\u001b[0m \u001b[1m1s\u001b[0m 40ms/step - loss: 9.4508e-05 - val_loss: 1.4797e-04\n",
      "Epoch 41/50\n",
      "\u001b[1m28/28\u001b[0m \u001b[32m━━━━━━━━━━━━━━━━━━━━\u001b[0m\u001b[37m\u001b[0m \u001b[1m1s\u001b[0m 42ms/step - loss: 1.1364e-04 - val_loss: 8.4996e-05\n",
      "Epoch 42/50\n",
      "\u001b[1m28/28\u001b[0m \u001b[32m━━━━━━━━━━━━━━━━━━━━\u001b[0m\u001b[37m\u001b[0m \u001b[1m1s\u001b[0m 46ms/step - loss: 9.5744e-05 - val_loss: 2.1275e-04\n",
      "Epoch 43/50\n",
      "\u001b[1m28/28\u001b[0m \u001b[32m━━━━━━━━━━━━━━━━━━━━\u001b[0m\u001b[37m\u001b[0m \u001b[1m1s\u001b[0m 40ms/step - loss: 1.0026e-04 - val_loss: 2.9217e-04\n",
      "Epoch 44/50\n",
      "\u001b[1m28/28\u001b[0m \u001b[32m━━━━━━━━━━━━━━━━━━━━\u001b[0m\u001b[37m\u001b[0m \u001b[1m1s\u001b[0m 40ms/step - loss: 9.7035e-05 - val_loss: 1.2582e-04\n",
      "Epoch 45/50\n",
      "\u001b[1m28/28\u001b[0m \u001b[32m━━━━━━━━━━━━━━━━━━━━\u001b[0m\u001b[37m\u001b[0m \u001b[1m1s\u001b[0m 40ms/step - loss: 9.0953e-05 - val_loss: 1.3079e-04\n",
      "Epoch 46/50\n",
      "\u001b[1m28/28\u001b[0m \u001b[32m━━━━━━━━━━━━━━━━━━━━\u001b[0m\u001b[37m\u001b[0m \u001b[1m1s\u001b[0m 40ms/step - loss: 1.0656e-04 - val_loss: 1.4023e-04\n",
      "Epoch 47/50\n",
      "\u001b[1m28/28\u001b[0m \u001b[32m━━━━━━━━━━━━━━━━━━━━\u001b[0m\u001b[37m\u001b[0m \u001b[1m1s\u001b[0m 39ms/step - loss: 1.0484e-04 - val_loss: 1.7793e-04\n",
      "Epoch 48/50\n",
      "\u001b[1m28/28\u001b[0m \u001b[32m━━━━━━━━━━━━━━━━━━━━\u001b[0m\u001b[37m\u001b[0m \u001b[1m1s\u001b[0m 40ms/step - loss: 9.2614e-05 - val_loss: 1.5936e-04\n",
      "Epoch 49/50\n",
      "\u001b[1m28/28\u001b[0m \u001b[32m━━━━━━━━━━━━━━━━━━━━\u001b[0m\u001b[37m\u001b[0m \u001b[1m1s\u001b[0m 40ms/step - loss: 8.6151e-05 - val_loss: 2.4339e-04\n",
      "Epoch 50/50\n",
      "\u001b[1m28/28\u001b[0m \u001b[32m━━━━━━━━━━━━━━━━━━━━\u001b[0m\u001b[37m\u001b[0m \u001b[1m1s\u001b[0m 40ms/step - loss: 1.0040e-04 - val_loss: 1.2853e-04\n",
      "Final Training Loss: 0.000091\n"
     ]
    }
   ],
   "source": [
    "from tensorflow.keras.callbacks import EarlyStopping\n",
    "\n",
    "# Step 5: Build LSTM Model\n",
    "model = Sequential([\n",
    "    LSTM(units=100, return_sequences=True, input_shape=(x_train.shape[1], 1)),  # First LSTM layer\n",
    "    Dropout(0.2),  # Dropout to prevent overfitting\n",
    "    LSTM(units=100, return_sequences=False),  # Second LSTM layer\n",
    "    Dropout(0.2),\n",
    "    Dense(units=50),  # Dense layer with 25 neurons\n",
    "    Dense(units=1)  # Output layer for predicted price\n",
    "])\n",
    "\n",
    "# Compile the model with Adam optimizer and MSE loss function\n",
    "model.compile(optimizer='adam', loss=tf.keras.losses.Huber())\n",
    "\n",
    "# Define Early Stopping callback to prevent overfitting\n",
    "early_stopping = EarlyStopping(monitor='loss', patience=10, restore_best_weights=True)\n",
    "\n",
    "# Train the model with increased epochs and validation split\n",
    "history = model.fit(\n",
    "    x_train, y_train,\n",
    "    batch_size=32,  # More reasonable batch size\n",
    "    epochs=50,  # Increase epochs for better training\n",
    "    validation_split=0.1,  # 10% validation split\n",
    "    callbacks=[early_stopping],  # Early stopping\n",
    "    verbose=1  # Show training progress\n",
    ")\n",
    "\n",
    "# Print final training loss\n",
    "print(f\"Final Training Loss: {history.history['loss'][-1]:.6f}\")\n"
   ]
  },
  {
   "cell_type": "code",
   "execution_count": 8,
   "id": "8d38f225-8f50-4d98-ab39-bf2240356c36",
   "metadata": {},
   "outputs": [
    {
     "name": "stdout",
     "output_type": "stream",
     "text": [
      "x_future shape: (1, 60, 1) (should be (1, 60, 1))\n"
     ]
    }
   ],
   "source": [
    "# Step 6: Prepare the Data for 30-Day Forecast\n",
    "\n",
    "# Ensure we have at least 60 days of data for forecasting\n",
    "if len(scaled_data) < 60:\n",
    "    raise ValueError(\"Error: Not enough data available to create a 60-day forecasting window.\")\n",
    "\n",
    "# Extract the last 60 days of data\n",
    "last_60_days = scaled_data[-60:]\n",
    "\n",
    "# Reshape last_60_days to match LSTM input requirements: (1 sample, 60 timesteps, 1 feature)\n",
    "x_future = np.reshape(last_60_days, (1, last_60_days.shape[0], 1))\n",
    "\n",
    "# Print shape for debugging\n",
    "print(f\"x_future shape: {x_future.shape} (should be (1, 60, 1))\")\n"
   ]
  },
  {
   "cell_type": "code",
   "execution_count": 9,
   "id": "3752b4d4-11b6-4848-badb-948afcf9bf3a",
   "metadata": {},
   "outputs": [
    {
     "name": "stdout",
     "output_type": "stream",
     "text": [
      "First 5 Predicted Values (before inverse transform): [0.879082   0.86031276 0.83621585 0.80991024 0.78292805]\n"
     ]
    }
   ],
   "source": [
    "# Step 7: Generate 30-Day Forecast\n",
    "\n",
    "# Create an empty list to store predictions\n",
    "future_predictions = []\n",
    "\n",
    "# Generate forecast for 30 days\n",
    "for day in range(30):  \n",
    "    # Predict the next day's closing price\n",
    "    pred = model.predict(x_future, verbose=0)  # Disable verbose for cleaner output\n",
    "    future_predictions.append(pred[0, 0])  # Store prediction\n",
    "    \n",
    "    # Update x_future by removing the first value and adding the new prediction\n",
    "    pred_reshaped = np.reshape(pred, (1, 1, 1))  # Reshape to (1, 1, 1) for concatenation\n",
    "    x_future = np.concatenate((x_future[:, 1:, :], pred_reshaped), axis=1)\n",
    "\n",
    "# Convert predictions to a NumPy array\n",
    "future_predictions = np.array(future_predictions).flatten()\n",
    "\n",
    "# Print first 5 predictions for verification\n",
    "print(\"First 5 Predicted Values (before inverse transform):\", future_predictions[:5])\n"
   ]
  },
  {
   "cell_type": "code",
   "execution_count": 10,
   "id": "cdd10b01-a708-4aa8-baf5-567664f113b8",
   "metadata": {},
   "outputs": [
    {
     "name": "stdout",
     "output_type": "stream",
     "text": [
      "First 5 Predicted Prices (after inverse transform): [977.7784 962.3986 942.6534 921.0982 898.9887]\n"
     ]
    }
   ],
   "source": [
    "# Step 8: Transform Predictions Back to Original Scale\n",
    "\n",
    "# Ensure predictions are properly reshaped for inverse transformation\n",
    "future_predictions = future_predictions.reshape(-1, 1)\n",
    "\n",
    "# Apply inverse transformation to bring predictions back to the original stock price scale\n",
    "future_predictions = scaler.inverse_transform(future_predictions).flatten()\n",
    "\n",
    "# Handle potential NaN values\n",
    "if np.isnan(future_predictions).any():\n",
    "    raise ValueError(\"Error: NaN values found in predictions. Check the model output.\")\n",
    "\n",
    "# Print first 5 transformed predictions for verification\n",
    "print(\"First 5 Predicted Prices (after inverse transform):\", future_predictions[:5])\n"
   ]
  },
  {
   "cell_type": "code",
   "execution_count": 11,
   "id": "aef3285f-36d9-485b-9bd9-894db811db1b",
   "metadata": {},
   "outputs": [
    {
     "data": {
      "image/png": "[encoded data removed]",
      "text/plain": [
       "<Figure size 1200x600 with 1 Axes>"
      ]
     },
     "metadata": {},
     "output_type": "display_data"
    }
   ],
   "source": [
    "# Step 9: Visualize the Results\n",
    "\n",
    "import matplotlib.dates as mdates\n",
    "\n",
    "# Generate future dates (business days only)\n",
    "forecast_dates = pd.date_range(start=data.index[-1] + pd.Timedelta(days=1), periods=30, freq='B')\n",
    "\n",
    "# Create a DataFrame to hold forecasted prices with corresponding dates\n",
    "forecast_df = pd.DataFrame({'Date': forecast_dates, 'Prediction': future_predictions})\n",
    "forecast_df.set_index('Date', inplace=True)\n",
    "\n",
    "# Plot historical data and future predictions\n",
    "plt.figure(figsize=(12, 6))\n",
    "\n",
    "# Plot historical prices (blue)\n",
    "plt.plot(data.index, data['Close'], label='Historical Prices', color='blue')\n",
    "\n",
    "# Plot forecasted prices as a **solid red line**\n",
    "plt.plot(forecast_df.index, forecast_df['Prediction'], label='30-Day Forecast', color='red')  \n",
    "\n",
    "# Improve date formatting\n",
    "plt.gca().xaxis.set_major_formatter(mdates.DateFormatter('%b %Y'))  # Format dates as \"Jan 2024\"\n",
    "plt.xticks(rotation=45)  # Rotate x-axis labels for better visibility\n",
    "\n",
    "# Add labels, title, and grid\n",
    "plt.xlabel('Date')\n",
    "plt.ylabel('Stock Price (USD)')\n",
    "plt.title(f\"Stock Price Prediction for {ticker}\")\n",
    "plt.legend()\n",
    "plt.grid(True, linestyle='--', alpha=0.6)  # Improve grid readability\n",
    "\n",
    "# Show the plot\n",
    "plt.show()\n",
    "\n",
    "\n",
    "\n"
   ]
  },
  {
   "cell_type": "code",
   "execution_count": 12,
   "id": "1914d3db-c7e7-4d8b-bb46-5577a94a2753",
   "metadata": {},
   "outputs": [
    {
     "name": "stdout",
     "output_type": "stream",
     "text": [
      "\u001b[1m9/9\u001b[0m \u001b[32m━━━━━━━━━━━━━━━━━━━━\u001b[0m\u001b[37m\u001b[0m \u001b[1m0s\u001b[0m 14ms/step \n",
      "Model RMSE: 33.41 (Lower is better)\n",
      "Accuracy Graph saved: graphs/COST_accuracy.png ✅\n",
      "RMSE saved: graphs/COST_rmse.txt ✅\n"
     ]
    }
   ],
   "source": [
    "import os\n",
    "from sklearn.metrics import mean_squared_error\n",
    "\n",
    "# Step 10: Model Accuracy Check\n",
    "\n",
    "# Ensure the \"graphs\" folder exists\n",
    "graph_folder = \"graphs\"\n",
    "os.makedirs(graph_folder, exist_ok=True)\n",
    "\n",
    "# Define test data (last 20% of historical data)\n",
    "test_data = scaled_data[training_data_len - 60:]  # Include last 60 days for proper sequence\n",
    "\n",
    "# Create x_test and y_test\n",
    "x_test = np.array([test_data[i-60:i, 0] for i in range(60, len(test_data))])\n",
    "y_test = np.array([test_data[i, 0] for i in range(60, len(test_data))])\n",
    "\n",
    "# Reshape x_test to match LSTM input shape\n",
    "x_test = x_test.reshape((x_test.shape[0], x_test.shape[1], 1))\n",
    "\n",
    "# Make predictions on the test set\n",
    "predictions = model.predict(x_test)\n",
    "\n",
    "# Convert predictions and actual values back to original scale\n",
    "predictions = scaler.inverse_transform(predictions)\n",
    "y_test = scaler.inverse_transform(y_test.reshape(-1, 1))\n",
    "\n",
    "# Calculate RMSE (Root Mean Squared Error)\n",
    "rmse = np.sqrt(mean_squared_error(y_test, predictions))\n",
    "\n",
    "# Print accuracy results\n",
    "print(f\"Model RMSE: {rmse:.2f} (Lower is better)\")\n",
    "\n",
    "# Plot actual vs predicted prices\n",
    "plt.figure(figsize=(12, 6))\n",
    "plt.plot(data.index[-len(y_test):], y_test, label=\"Actual Prices\", color='blue')\n",
    "plt.plot(data.index[-len(y_test):], predictions, label=\"Predicted Prices\", color='red')\n",
    "plt.xlabel('Date')\n",
    "plt.ylabel('Stock Price (USD)')\n",
    "plt.title(f\"Model Accuracy Check for {ticker}\\nRMSE: {rmse:.2f}\")\n",
    "plt.legend()\n",
    "plt.grid(True, linestyle='--', alpha=0.6)\n",
    "\n",
    "# Save the graph with RMSE info\n",
    "accuracy_graph_path = f\"{graph_folder}/{ticker}_accuracy.png\"\n",
    "plt.savefig(accuracy_graph_path)\n",
    "plt.close()\n",
    "\n",
    "print(f\"Accuracy Graph saved: {accuracy_graph_path} ✅\")\n",
    "\n",
    "# Save RMSE value separately for website display\n",
    "rmse_file_path = f\"{graph_folder}/{ticker}_rmse.txt\"\n",
    "with open(rmse_file_path, \"w\") as f:\n",
    "    f.write(f\"{rmse:.2f}\")\n",
    "\n",
    "print(f\"RMSE saved: {rmse_file_path} ✅\")\n",
    "\n"
   ]
  },
  {
   "cell_type": "code",
   "execution_count": 13,
   "id": "06be1faf-9304-4d2b-834d-8e7e2202ed61",
   "metadata": {},
   "outputs": [
    {
     "name": "stdout",
     "output_type": "stream",
     "text": [
      "Graph saved: graphs/COST.png ✅\n"
     ]
    }
   ],
   "source": [
    "# Ensure forecast exists before using it\n",
    "if 'future_predictions' not in locals():\n",
    "    raise ValueError(\"Error: 'future_predictions' is not defined. Ensure predictions are generated before plotting.\")\n",
    "\n",
    "# Convert predictions into a DataFrame\n",
    "forecast_dates = pd.date_range(start=data.index[-1] + pd.Timedelta(days=1), periods=30, freq='B')\n",
    "forecast_df = pd.DataFrame({'Date': forecast_dates, 'Prediction': future_predictions})\n",
    "forecast_df.set_index('Date', inplace=True)\n",
    "\n",
    "# Ensure folder exists to store graphs\n",
    "graph_folder = \"graphs\"\n",
    "os.makedirs(graph_folder, exist_ok=True)\n",
    "\n",
    "# Generate a plot\n",
    "plt.figure(figsize=(12, 6))\n",
    "plt.plot(data['Close'], label='Historical Prices', color='blue')  # Plot historical data\n",
    "plt.plot(forecast_df.index, forecast_df['Prediction'], label='30-Day Forecast', color='red')  # Forecasted prices\n",
    "\n",
    "# Customize the graph\n",
    "plt.xlabel('Date')\n",
    "plt.ylabel('Stock Price (USD)')\n",
    "plt.title(f\"Stock Price Prediction for {ticker}\")\n",
    "plt.legend()\n",
    "plt.grid(True, linestyle='--', alpha=0.6)\n",
    "\n",
    "# Save the graph\n",
    "graph_path = f\"{graph_folder}/{ticker}.png\"\n",
    "plt.savefig(graph_path)\n",
    "plt.close()\n",
    "\n",
    "print(f\"Graph saved: {graph_path} ✅\")\n"
   ]
  },
  {
   "cell_type": "code",
   "execution_count": 14,
   "id": "ecc36878-d821-4379-aedc-319c57ee0bd9",
   "metadata": {},
   "outputs": [],
   "source": [
    "# Calculate Moving Averages\n",
    "data[\"MA7\"] = data[\"Close\"].rolling(window=7).mean()\n",
    "data[\"MA21\"] = data[\"Close\"].rolling(window=21).mean()\n",
    "\n",
    "# Plot with Moving Averages\n",
    "plt.figure(figsize=(12, 6))\n",
    "plt.plot(data.index, data[\"Close\"], label=\"Stock Price\", color='blue')\n",
    "plt.plot(data.index, data[\"MA7\"], label=\"7-Day MA\", color='orange')\n",
    "plt.plot(data.index, data[\"MA21\"], label=\"21-Day MA\", color='green')\n",
    "\n",
    "plt.xlabel(\"Date\")\n",
    "plt.ylabel(\"Stock Price (USD)\")\n",
    "plt.title(f\"{ticker} Stock Price with Moving Averages\")\n",
    "plt.legend()\n",
    "plt.grid(True, linestyle=\"--\", alpha=0.6)\n",
    "\n",
    "# Save Graph\n",
    "moving_avg_path = f\"{graph_folder}/{ticker}_moving_avg.png\"\n",
    "plt.savefig(moving_avg_path)\n",
    "plt.close()\n"
   ]
  },
  {
   "cell_type": "code",
   "execution_count": null,
   "id": "ffd5d086-9db3-4579-aa88-304bebc3133f",
   "metadata": {},
   "outputs": [],
   "source": []
  }
 ],
 "metadata": {
  "kernelspec": {
   "display_name": "Python 3 (ipykernel)",
   "language": "python",
   "name": "python3"
  },
  "language_info": {
   "codemirror_mode": {
    "name": "ipython",
    "version": 3
   },
   "file_extension": ".py",
   "mimetype": "text/x-python",
   "name": "python",
   "nbconvert_exporter": "python",
   "pygments_lexer": "ipython3",
   "version": "3.12.0"
  }
 },
 "nbformat": 4,
 "nbformat_minor": 5
}
